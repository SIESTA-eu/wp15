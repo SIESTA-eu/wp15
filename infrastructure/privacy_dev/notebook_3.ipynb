{
 "cells": [
  {
   "cell_type": "code",
   "execution_count": 1,
   "id": "9ee400d2-10ae-461f-97bd-a309dcbc36ad",
   "metadata": {},
   "outputs": [
    {
     "name": "stdout",
     "output_type": "stream",
     "text": [
      "100% [..........................................................] 39886 / 39886\n",
      "Original file downloaded.\n"
     ]
    }
   ],
   "source": [
    "import numpy as np\n",
    "import pandas as pd\n",
    "import matplotlib.pyplot as plt\n",
    "from scipy.stats import ttest_1samp, t\n",
    "import seaborn as sns\n",
    "import os, wget, shutil\n",
    "\n",
    "os.makedirs(\"data\", exist_ok=True)\n",
    "link_original = \"https://s3.amazonaws.com/openneuro.org/ds004148/participants.tsv?versionId=wt81Mu2B3fdeiXSis5ym288A64lXRXkR\"\n",
    "wget.download(link_original)\n",
    "filename = \"participants.tsv\"\n",
    "file_ = [os.path.join(root, file) for root, _, files in os.walk(os.getcwd()) for file in files if file == filename]\n",
    "shutil.copy2(file_[0], \"data\")\n",
    "os.remove(file_[0])\n",
    "print(f\"\\nOriginal file downloaded.\")\n",
    "\n",
    "data = np.array(pd.read_csv(\"data/\"+filename,sep='\\s+')[\"Height\"]).reshape(-1,1)\n",
    "clean_data = data[~np.isnan(data)]"
   ]
  },
  {
   "cell_type": "code",
   "execution_count": null,
   "id": "94797182-ce8e-4a17-b068-408e899b9ef4",
   "metadata": {},
   "outputs": [],
   "source": []
  },
  {
   "cell_type": "code",
   "execution_count": 32,
   "id": "e858af19-69d6-43af-a8de-154b2f671a76",
   "metadata": {
    "scrolled": true
   },
   "outputs": [],
   "source": [
    "def dp(clean_data,pipeline_output):\n",
    "\n",
    "    loo_output = np.array([np.mean(np.delete(clean_data, i)) for i in range(len(clean_data))])\n",
    "    loo_scale = np.std(loo_output)\n",
    "    sensitivity = np.max(np.abs(loo_output - pipeline_output))\n",
    "    while True:\n",
    "        noise = np.random.laplace(loc=0.0, scale=loo_scale)\n",
    "        if abs(noise) >= sensitivity:\n",
    "            break\n",
    "\n",
    "    noisy_output = pipeline_output + noise\n",
    "    return noisy_output, sensitivity\n",
    "\n",
    "def user_output_loo_stats(clean_data):\n",
    "    \n",
    "    loo_mean = np.array([np.mean(np.delete(clean_data, i)) for i in range(len(clean_data))])\n",
    "    loo_std = np.sqrt(np.sum((clean_data - loo_mean) ** 2) / len(clean_data) - 1)\n",
    "    loo_t = loo_mean / (loo_std / np.sqrt(len(clean_data) - 1))\n",
    "\n",
    "\n",
    "    return loo_mean, loo_std, loo_t\n"
   ]
  },
  {
   "cell_type": "code",
   "execution_count": 115,
   "id": "9c4e7cd3-a363-4e8f-8bea-d6b636387847",
   "metadata": {},
   "outputs": [],
   "source": [
    "n_replicates = 2\n",
    "subsample_sizes = [5, 6]\n",
    "t1 = list()\n",
    "t1p = list()\n",
    "for run in range(n_replicates):\n",
    "    data = np.random.normal(loc=170, scale=10, size=100)\n",
    "    for size in subsample_sizes:\n",
    "        \n",
    "        subsample = data[:size].copy()\n",
    "        loo_data = np.array([np.delete(subsample, i) for i in range(len(subsample))])\n",
    "        \n",
    "        for loo_subset in loo_data:\n",
    "            h = list()\n",
    "            for _ in range(n_replicates):\n",
    "                if ttest_1samp(loo_subset, 170)[1] < 0.05:\n",
    "                    h.append(ttest_1samp(loo_subset, 170)[1])\n",
    "            t1.append(np.mean(h))\n",
    "            loo_mean, loo_std, loo_tval = user_output_loo_stats(loo_subset)\n",
    "            noisy_output, sensitivity_ = dp(loo_subset, loo_subset)\n",
    "            noisy_tstats = noisy_output / (loo_std / np.sqrt(size - 1))\n",
    "            pvals = 2 * (1 - t.cdf(np.abs(noisy_tstats), df=size-1))\n",
    "            t1p.append(np.mean(pvals[pvals < 0.05]))\n",
    "            \n"
   ]
  },
  {
   "cell_type": "code",
   "execution_count": null,
   "id": "5b3163ca-bccb-4824-8279-93b71d83680a",
   "metadata": {},
   "outputs": [],
   "source": []
  },
  {
   "cell_type": "code",
   "execution_count": null,
   "id": "a5664a8b-c41b-469d-a859-0a867e11d4b3",
   "metadata": {},
   "outputs": [],
   "source": []
  },
  {
   "cell_type": "code",
   "execution_count": null,
   "id": "011b519b-103f-48af-a370-7e5415969789",
   "metadata": {},
   "outputs": [],
   "source": []
  },
  {
   "cell_type": "code",
   "execution_count": null,
   "id": "ef38cb6f-350d-41a6-a998-146561eb9690",
   "metadata": {},
   "outputs": [],
   "source": []
  }
 ],
 "metadata": {
  "kernelspec": {
   "display_name": "Python 3 (ipykernel)",
   "language": "python",
   "name": "python3"
  },
  "language_info": {
   "codemirror_mode": {
    "name": "ipython",
    "version": 3
   },
   "file_extension": ".py",
   "mimetype": "text/x-python",
   "name": "python",
   "nbconvert_exporter": "python",
   "pygments_lexer": "ipython3",
   "version": "3.11.9"
  }
 },
 "nbformat": 4,
 "nbformat_minor": 5
}
